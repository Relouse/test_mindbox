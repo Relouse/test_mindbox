{
 "cells": [
  {
   "cell_type": "code",
   "execution_count": 187,
   "id": "6d959705",
   "metadata": {},
   "outputs": [],
   "source": [
    "# 9999999 - маскимальное значение id\n",
    "# Занчит, что 10000000 - максимальное количество клиентов, если начинать отсчет id с 0"
   ]
  },
  {
   "cell_type": "code",
   "execution_count": 188,
   "id": "716a4d1a",
   "metadata": {},
   "outputs": [],
   "source": [
    "# проверка на int\n",
    "def isint(s): \n",
    "    try:\n",
    "        int(s)\n",
    "        return True\n",
    "    except ValueError:\n",
    "        return False"
   ]
  },
  {
   "cell_type": "code",
   "execution_count": 189,
   "id": "3084af1a",
   "metadata": {},
   "outputs": [],
   "source": [
    "# Функция 1\n",
    "def group_counters(n_customers):\n",
    "    a = {}\n",
    "    for i in range(n_customers):\n",
    "        sum = 0\n",
    "        b = i\n",
    "        while b > 0:\n",
    "            sum += b%10\n",
    "            b //= 10\n",
    "        a[sum] = a.get(sum,0) + 1\n",
    "        sum = 0\n",
    "    return a"
   ]
  },
  {
   "cell_type": "code",
   "execution_count": 190,
   "id": "32eaf730",
   "metadata": {},
   "outputs": [],
   "source": [
    "# Функция 2\n",
    "def group_counters_first(n_customers, n_first_id):\n",
    "    a = {}\n",
    "    for i in range(n_first_id, n_customers+n_first_id):\n",
    "        sum = 0\n",
    "        b = i\n",
    "        while b > 0:\n",
    "            sum += b%10\n",
    "            b //= 10\n",
    "        a[sum] = a.get(sum,0) + 1\n",
    "        sum = 0\n",
    "    return a"
   ]
  },
  {
   "cell_type": "code",
   "execution_count": 191,
   "id": "908fd593",
   "metadata": {},
   "outputs": [
    {
     "name": "stdout",
     "output_type": "stream",
     "text": [
      "id первого клиента: 100000\n",
      "Число клинетов: 9900000\n"
     ]
    }
   ],
   "source": [
    "# input n_counters\n",
    "flag = False\n",
    "while flag == False:    \n",
    "    n_first_id = input('id первого клиента: ')\n",
    "    flag = isint(n_first_id)\n",
    "    if flag == True:\n",
    "        n_first_id = int(n_first_id)\n",
    "        if (len(str(n_first_id)) >= 8) | (n_first_id < 0):\n",
    "            flag = False\n",
    "\n",
    "flag = False\n",
    "while flag == False:    \n",
    "    n_customers = input('Число клинетов: ')\n",
    "    flag = isint(n_customers)\n",
    "    if flag == True:\n",
    "        n_customers = int(n_customers)\n",
    "        if (len(str(n_customers - 1)) >= 8) | (n_customers < 0) | (n_customers+n_first_id > 10000000):\n",
    "            flag = False"
   ]
  },
  {
   "cell_type": "code",
   "execution_count": 192,
   "id": "5f30292e",
   "metadata": {},
   "outputs": [],
   "source": [
    "a = group_counters(n_customers)"
   ]
  },
  {
   "cell_type": "code",
   "execution_count": 193,
   "id": "11e629a4",
   "metadata": {},
   "outputs": [],
   "source": [
    "q = group_counters_first(n_customers, n_first_id)"
   ]
  }
 ],
 "metadata": {
  "kernelspec": {
   "display_name": "Python 3 (ipykernel)",
   "language": "python",
   "name": "python3"
  },
  "language_info": {
   "codemirror_mode": {
    "name": "ipython",
    "version": 3
   },
   "file_extension": ".py",
   "mimetype": "text/x-python",
   "name": "python",
   "nbconvert_exporter": "python",
   "pygments_lexer": "ipython3",
   "version": "3.9.12"
  }
 },
 "nbformat": 4,
 "nbformat_minor": 5
}
