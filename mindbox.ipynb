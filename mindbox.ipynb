{
 "cells": [
  {
   "cell_type": "code",
   "execution_count": 187,
   "id": "1b57c487",
   "metadata": {},
   "outputs": [],
   "source": [
    "# 9999999 - маскимальное значение id\n",
    "# Занчит, что 10000000 - максимальное количество клиентов, если начинать отсчет id с 0"
   ]
  },
  {
   "cell_type": "code",
   "execution_count": 188,
   "id": "50e240a2",
   "metadata": {},
   "outputs": [],
   "source": [
    "# проверка на int\n",
    "def isint(s): \n",
    "    try:\n",
    "        int(s)\n",
    "        return True\n",
    "    except ValueError:\n",
    "        return False"
   ]
  },
  {
   "cell_type": "code",
   "execution_count": 189,
   "id": "cb2e0315",
   "metadata": {},
   "outputs": [],
   "source": [
    "# Функция 1\n",
    "def group_counters(n_customers):\n",
    "    a = {}\n",
    "    for i in range(n_customers):\n",
    "        sum = 0\n",
    "        b = i\n",
    "        while b > 0:\n",
    "            sum += b%10\n",
    "            b //= 10\n",
    "        a[sum] = a.get(sum,0) + 1\n",
    "        sum = 0\n",
    "    return a"
   ]
  },
  {
   "cell_type": "code",
   "execution_count": 190,
   "id": "6a31a0f5",
   "metadata": {},
   "outputs": [],
   "source": [
    "# Функция 2\n",
    "def group_counters_first(n_customers, n_first_id):\n",
    "    a = {}\n",
    "    for i in range(n_first_id, n_customers+n_first_id):\n",
    "        sum = 0\n",
    "        b = i\n",
    "        while b > 0:\n",
    "            sum += b%10\n",
    "            b //= 10\n",
    "        a[sum] = a.get(sum,0) + 1\n",
    "        sum = 0\n",
    "    return a"
   ]
  },
  {
   "cell_type": "code",
   "execution_count": 191,
   "id": "66c2c686",
   "metadata": {},
   "outputs": [
    {
     "name": "stdout",
     "output_type": "stream",
     "text": [
      "id первого клиента: 100000\n",
      "Число клинетов: 9900000\n"
     ]
    }
   ],
   "source": [
    "# input n_counters\n",
    "flag = False\n",
    "while flag == False:    \n",
    "    n_first_id = input('id первого клиента: ')\n",
    "    flag = isint(n_first_id)\n",
    "    if flag == True:\n",
    "        n_first_id = int(n_first_id)\n",
    "        if (len(str(n_first_id)) >= 8) | (n_first_id < 0):\n",
    "            flag = False\n",
    "\n",
    "flag = False\n",
    "while flag == False:    \n",
    "    n_customers = input('Число клинетов: ')\n",
    "    flag = isint(n_customers)\n",
    "    if flag == True:\n",
    "        n_customers = int(n_customers)\n",
    "        if (len(str(n_customers - 1)) >= 8) | (n_customers < 0) | (n_customers+n_first_id > 10000000):\n",
    "            flag = False"
   ]
  },
  {
   "cell_type": "code",
   "execution_count": 192,
   "id": "7d126cc5",
   "metadata": {},
   "outputs": [],
   "source": [
    "a = group_counters(n_customers)"
   ]
  },
  {
   "cell_type": "code",
   "execution_count": 193,
   "id": "067e0052",
   "metadata": {},
   "outputs": [],
   "source": [
    "q = group_counters_first(n_customers, n_first_id)"
   ]
  },
  {
   "cell_type": "code",
   "execution_count": 194,
   "id": "ef1daf1d",
   "metadata": {},
   "outputs": [],
   "source": [
    "import pandas as pd\n",
    "import seaborn as sns"
   ]
  },
  {
   "cell_type": "code",
   "execution_count": 195,
   "id": "817fed4f",
   "metadata": {},
   "outputs": [
    {
     "data": {
      "text/plain": [
       "<AxesSubplot:xlabel='sum', ylabel='count'>"
      ]
     },
     "execution_count": 195,
     "metadata": {},
     "output_type": "execute_result"
    },
    {
     "data": {
      "image/png": "[encoded data removed]",
      "text/plain": [
       "<Figure size 432x288 with 1 Axes>"
      ]
     },
     "metadata": {
      "needs_background": "light"
     },
     "output_type": "display_data"
    }
   ],
   "source": [
    "x = []\n",
    "for i in range(len(a)):\n",
    "    x.append(a[i])\n",
    "df = pd.DataFrame({'sum' : a.keys(), 'count' : x})\n",
    "df.plot.scatter(x='sum', y='count')"
   ]
  },
  {
   "cell_type": "code",
   "execution_count": 196,
   "id": "2ee97b62",
   "metadata": {},
   "outputs": [
    {
     "data": {
      "text/plain": [
       "<AxesSubplot:xlabel='sum', ylabel='count'>"
      ]
     },
     "execution_count": 196,
     "metadata": {},
     "output_type": "execute_result"
    },
    {
     "data": {
      "image/png": "[encoded data removed]",
      "text/plain": [
       "<Figure size 432x288 with 1 Axes>"
      ]
     },
     "metadata": {
      "needs_background": "light"
     },
     "output_type": "display_data"
    }
   ],
   "source": [
    "x1 = []\n",
    "for i in range(len(q)):\n",
    "    x1.append(q[list(q.keys())[i]])\n",
    "df1 = pd.DataFrame({'sum' : q.keys(), 'count' : x1})\n",
    "df1.plot.scatter(x='sum', y='count')"
   ]
  },
  {
   "cell_type": "code",
   "execution_count": 197,
   "id": "85bed282",
   "metadata": {},
   "outputs": [
    {
     "data": {
      "text/plain": [
       "{0: 1,\n",
       " 1: 7,\n",
       " 2: 28,\n",
       " 3: 84,\n",
       " 4: 210,\n",
       " 5: 462,\n",
       " 6: 924,\n",
       " 7: 1716,\n",
       " 8: 3003,\n",
       " 9: 5005,\n",
       " 10: 8001,\n",
       " 11: 12327,\n",
       " 12: 18368,\n",
       " 13: 26544,\n",
       " 14: 37290,\n",
       " 15: 51030,\n",
       " 16: 68145,\n",
       " 17: 88935,\n",
       " 18: 113574,\n",
       " 19: 142060,\n",
       " 20: 174180,\n",
       " 21: 209490,\n",
       " 22: 247310,\n",
       " 23: 286734,\n",
       " 24: 326655,\n",
       " 25: 365805,\n",
       " 26: 402810,\n",
       " 27: 436260,\n",
       " 28: 464799,\n",
       " 29: 487225,\n",
       " 30: 502570,\n",
       " 31: 510160,\n",
       " 32: 509655,\n",
       " 33: 501069,\n",
       " 34: 484770,\n",
       " 35: 461460,\n",
       " 36: 432135,\n",
       " 37: 398025,\n",
       " 38: 360504,\n",
       " 39: 320990,\n",
       " 40: 280860,\n",
       " 41: 241380,\n",
       " 42: 203650,\n",
       " 43: 168564,\n",
       " 44: 136785,\n",
       " 45: 108735,\n",
       " 46: 84600,\n",
       " 47: 64350,\n",
       " 48: 47784,\n",
       " 49: 34580,\n",
       " 50: 24339,\n",
       " 51: 16623,\n",
       " 52: 10987,\n",
       " 53: 7005,\n",
       " 54: 4290,\n",
       " 55: 2508,\n",
       " 56: 1386,\n",
       " 57: 714,\n",
       " 58: 336,\n",
       " 59: 140,\n",
       " 60: 49,\n",
       " 61: 13,\n",
       " 62: 2}"
      ]
     },
     "execution_count": 197,
     "metadata": {},
     "output_type": "execute_result"
    }
   ],
   "source": [
    "a"
   ]
  },
  {
   "cell_type": "code",
   "execution_count": 198,
   "id": "90bf4b41",
   "metadata": {},
   "outputs": [
    {
     "data": {
      "text/plain": [
       "{1: 2,\n",
       " 2: 13,\n",
       " 3: 49,\n",
       " 4: 140,\n",
       " 5: 336,\n",
       " 6: 714,\n",
       " 7: 1386,\n",
       " 8: 2508,\n",
       " 9: 4290,\n",
       " 10: 7005,\n",
       " 11: 10987,\n",
       " 12: 16623,\n",
       " 13: 24339,\n",
       " 14: 34580,\n",
       " 15: 47784,\n",
       " 16: 64350,\n",
       " 17: 84600,\n",
       " 18: 108735,\n",
       " 19: 136785,\n",
       " 20: 168564,\n",
       " 21: 203650,\n",
       " 22: 241380,\n",
       " 23: 280860,\n",
       " 24: 320990,\n",
       " 25: 360504,\n",
       " 26: 398025,\n",
       " 27: 432135,\n",
       " 28: 461460,\n",
       " 29: 484770,\n",
       " 30: 501069,\n",
       " 31: 509655,\n",
       " 32: 510160,\n",
       " 33: 502570,\n",
       " 34: 487225,\n",
       " 35: 464799,\n",
       " 36: 436260,\n",
       " 37: 402810,\n",
       " 38: 365805,\n",
       " 39: 326655,\n",
       " 40: 286734,\n",
       " 41: 247310,\n",
       " 42: 209490,\n",
       " 43: 174180,\n",
       " 44: 142060,\n",
       " 45: 113574,\n",
       " 46: 88935,\n",
       " 47: 68145,\n",
       " 48: 51030,\n",
       " 49: 37290,\n",
       " 50: 26544,\n",
       " 51: 18368,\n",
       " 52: 12327,\n",
       " 53: 8001,\n",
       " 54: 5005,\n",
       " 55: 3003,\n",
       " 56: 1716,\n",
       " 57: 924,\n",
       " 58: 462,\n",
       " 59: 210,\n",
       " 60: 84,\n",
       " 61: 28,\n",
       " 62: 7,\n",
       " 63: 1}"
      ]
     },
     "execution_count": 198,
     "metadata": {},
     "output_type": "execute_result"
    }
   ],
   "source": [
    "q"
   ]
  },
  {
   "cell_type": "code",
   "execution_count": null,
   "id": "934ed72d",
   "metadata": {},
   "outputs": [],
   "source": []
  }
 ],
 "metadata": {
  "kernelspec": {
   "display_name": "Python 3 (ipykernel)",
   "language": "python",
   "name": "python3"
  },
  "language_info": {
   "codemirror_mode": {
    "name": "ipython",
    "version": 3
   },
   "file_extension": ".py",
   "mimetype": "text/x-python",
   "name": "python",
   "nbconvert_exporter": "python",
   "pygments_lexer": "ipython3",
   "version": "3.9.12"
  }
 },
 "nbformat": 4,
 "nbformat_minor": 5
}
